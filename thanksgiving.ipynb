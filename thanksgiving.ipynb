{
 "cells": [
  {
   "cell_type": "markdown",
   "metadata": {},
   "source": [
    "## Data Analysis with pandas\n",
    "\n",
    "Each survey respondent was asked questions about what they typically eat for Thanksgiving, along with some demographic questions, like their gender, income, and location. This dataset will allow us to discover regional and income-based patterns in what Americans eat for Thanksgiving dinner.\n",
    "\n",
    "Using this Thanksgiving survey data, we can answer quite a few interesting questions, like:\n",
    "\n",
    "- Do people in Suburban areas eat more Tofurkey than people in Rural areas?\n",
    "- Where do people go to Black Friday sales most often?\n",
    "- Is there a correlation between praying on Thanksgiving and income?\n",
    "- What income groups are most likely to have homemade cranberry sauce?"
   ]
  },
  {
   "cell_type": "markdown",
   "metadata": {},
   "source": [
    "### Task 1 - Load Data\n",
    "\n",
    "- Read about the [data set](https://github.com/fivethirtyeight/data/tree/master/thanksgiving-2015)\n",
    "- Read in the data to pandas\n",
    "- Check the shape of the dataframe and examine the different columns\n",
    "- Check the summary statistics of the dataframe"
   ]
  },
  {
   "cell_type": "code",
   "execution_count": 1,
   "metadata": {
    "collapsed": true
   },
   "outputs": [],
   "source": [
    "import pandas as pd\n",
    "import numpy as np\n",
    "import matplotlib.pyplot as plt\n",
    "%matplotlib inline"
   ]
  },
  {
   "cell_type": "code",
   "execution_count": 2,
   "metadata": {
    "collapsed": true
   },
   "outputs": [],
   "source": [
    "data = pd.read_csv(\"thanksgiving.csv\", encoding = 'latin-1')"
   ]
  },
  {
   "cell_type": "code",
   "execution_count": 29,
   "metadata": {},
   "outputs": [
    {
     "data": {
      "text/plain": [
       "(1058, 65)"
      ]
     },
     "execution_count": 29,
     "metadata": {},
     "output_type": "execute_result"
    }
   ],
   "source": [
    "data.shape"
   ]
  },
  {
   "cell_type": "code",
   "execution_count": 30,
   "metadata": {},
   "outputs": [
    {
     "data": {
      "text/html": [
       "<div>\n",
       "<style>\n",
       "    .dataframe thead tr:only-child th {\n",
       "        text-align: right;\n",
       "    }\n",
       "\n",
       "    .dataframe thead th {\n",
       "        text-align: left;\n",
       "    }\n",
       "\n",
       "    .dataframe tbody tr th {\n",
       "        vertical-align: top;\n",
       "    }\n",
       "</style>\n",
       "<table border=\"1\" class=\"dataframe\">\n",
       "  <thead>\n",
       "    <tr style=\"text-align: right;\">\n",
       "      <th></th>\n",
       "      <th>RespondentID</th>\n",
       "    </tr>\n",
       "  </thead>\n",
       "  <tbody>\n",
       "    <tr>\n",
       "      <th>count</th>\n",
       "      <td>1.058000e+03</td>\n",
       "    </tr>\n",
       "    <tr>\n",
       "      <th>mean</th>\n",
       "      <td>4.336731e+09</td>\n",
       "    </tr>\n",
       "    <tr>\n",
       "      <th>std</th>\n",
       "      <td>4.937834e+05</td>\n",
       "    </tr>\n",
       "    <tr>\n",
       "      <th>min</th>\n",
       "      <td>4.335895e+09</td>\n",
       "    </tr>\n",
       "    <tr>\n",
       "      <th>25%</th>\n",
       "      <td>4.336339e+09</td>\n",
       "    </tr>\n",
       "    <tr>\n",
       "      <th>50%</th>\n",
       "      <td>4.336797e+09</td>\n",
       "    </tr>\n",
       "    <tr>\n",
       "      <th>75%</th>\n",
       "      <td>4.337012e+09</td>\n",
       "    </tr>\n",
       "    <tr>\n",
       "      <th>max</th>\n",
       "      <td>4.337955e+09</td>\n",
       "    </tr>\n",
       "  </tbody>\n",
       "</table>\n",
       "</div>"
      ],
      "text/plain": [
       "       RespondentID\n",
       "count  1.058000e+03\n",
       "mean   4.336731e+09\n",
       "std    4.937834e+05\n",
       "min    4.335895e+09\n",
       "25%    4.336339e+09\n",
       "50%    4.336797e+09\n",
       "75%    4.337012e+09\n",
       "max    4.337955e+09"
      ]
     },
     "execution_count": 30,
     "metadata": {},
     "output_type": "execute_result"
    }
   ],
   "source": [
    "data.describe()"
   ]
  },
  {
   "cell_type": "markdown",
   "metadata": {},
   "source": [
    "### Task 2 - Initial Data Analysis\n",
    "\n",
    "- Create a new dataframe that only includes people that celebrate Thanksgiving\n",
    "- Find out what the most popular main dish is.\n",
    "- Do people who eat Tofurkey also have gravy as a side dish (calculate proportions)?\n",
    "- What is the most popular pie?\n",
    "- How many pies are eaten other than Apple, Pecan and Pumpkin?\n",
    "- Look at the age distribution.\n",
    "- Write a function that approximates each respondent's age given the ranges and apply it to all cells (remember type conversion).\n",
    "- Examine the summary statistics of the age column now.\n",
    "- Look at the income distribution.\n",
    "- Write a function that approximates each respondent's income given the ranges and apply it to all cells (remember type conversion).\n",
    "- Examine the summary statistics of the income column now.\n",
    "- Look at the distance traveled for lower income (< 50,000) vs. higher income (>150,000) respondents.\n",
    "- Use the pivot_table function to examine what ages and incomes are more likely to \"attend a Friendsgiving\" or \"meetup with hometown friends.\n"
   ]
  },
  {
   "cell_type": "code",
   "execution_count": 31,
   "metadata": {},
   "outputs": [
    {
     "data": {
      "text/plain": [
       "Index(['RespondentID', 'Do you celebrate Thanksgiving?',\n",
       "       'What is typically the main dish at your Thanksgiving dinner?',\n",
       "       'What is typically the main dish at your Thanksgiving dinner? - Other (please specify)',\n",
       "       'How is the main dish typically cooked?',\n",
       "       'How is the main dish typically cooked? - Other (please specify)',\n",
       "       'What kind of stuffing/dressing do you typically have?',\n",
       "       'What kind of stuffing/dressing do you typically have? - Other (please specify)',\n",
       "       'What type of cranberry saucedo you typically have?',\n",
       "       'What type of cranberry saucedo you typically have? - Other (please specify)',\n",
       "       'Do you typically have gravy?',\n",
       "       'Which of these side dishes aretypically served at your Thanksgiving dinner? Please select all that apply. - Brussel sprouts',\n",
       "       'Which of these side dishes aretypically served at your Thanksgiving dinner? Please select all that apply. - Carrots',\n",
       "       'Which of these side dishes aretypically served at your Thanksgiving dinner? Please select all that apply. - Cauliflower',\n",
       "       'Which of these side dishes aretypically served at your Thanksgiving dinner? Please select all that apply. - Corn',\n",
       "       'Which of these side dishes aretypically served at your Thanksgiving dinner? Please select all that apply. - Cornbread',\n",
       "       'Which of these side dishes aretypically served at your Thanksgiving dinner? Please select all that apply. - Fruit salad',\n",
       "       'Which of these side dishes aretypically served at your Thanksgiving dinner? Please select all that apply. - Green beans/green bean casserole',\n",
       "       'Which of these side dishes aretypically served at your Thanksgiving dinner? Please select all that apply. - Macaroni and cheese',\n",
       "       'Which of these side dishes aretypically served at your Thanksgiving dinner? Please select all that apply. - Mashed potatoes',\n",
       "       'Which of these side dishes aretypically served at your Thanksgiving dinner? Please select all that apply. - Rolls/biscuits',\n",
       "       'Which of these side dishes aretypically served at your Thanksgiving dinner? Please select all that apply. - Squash',\n",
       "       'Which of these side dishes aretypically served at your Thanksgiving dinner? Please select all that apply. - Vegetable salad',\n",
       "       'Which of these side dishes aretypically served at your Thanksgiving dinner? Please select all that apply. - Yams/sweet potato casserole',\n",
       "       'Which of these side dishes aretypically served at your Thanksgiving dinner? Please select all that apply. - Other (please specify)',\n",
       "       'Which of these side dishes aretypically served at your Thanksgiving dinner? Please select all that apply. - Other (please specify).1',\n",
       "       'Which type of pie is typically served at your Thanksgiving dinner? Please select all that apply. - Apple',\n",
       "       'Which type of pie is typically served at your Thanksgiving dinner? Please select all that apply. - Buttermilk',\n",
       "       'Which type of pie is typically served at your Thanksgiving dinner? Please select all that apply. - Cherry',\n",
       "       'Which type of pie is typically served at your Thanksgiving dinner? Please select all that apply. - Chocolate',\n",
       "       'Which type of pie is typically served at your Thanksgiving dinner? Please select all that apply. - Coconut cream',\n",
       "       'Which type of pie is typically served at your Thanksgiving dinner? Please select all that apply. - Key lime',\n",
       "       'Which type of pie is typically served at your Thanksgiving dinner? Please select all that apply. - Peach',\n",
       "       'Which type of pie is typically served at your Thanksgiving dinner? Please select all that apply. - Pecan',\n",
       "       'Which type of pie is typically served at your Thanksgiving dinner? Please select all that apply. - Pumpkin',\n",
       "       'Which type of pie is typically served at your Thanksgiving dinner? Please select all that apply. - Sweet Potato',\n",
       "       'Which type of pie is typically served at your Thanksgiving dinner? Please select all that apply. - None',\n",
       "       'Which type of pie is typically served at your Thanksgiving dinner? Please select all that apply. - Other (please specify)',\n",
       "       'Which type of pie is typically served at your Thanksgiving dinner? Please select all that apply. - Other (please specify).1',\n",
       "       'Which of these desserts do you typically have at Thanksgiving dinner? Please select all that apply.   - Apple cobbler',\n",
       "       'Which of these desserts do you typically have at Thanksgiving dinner? Please select all that apply.   - Blondies',\n",
       "       'Which of these desserts do you typically have at Thanksgiving dinner? Please select all that apply.   - Brownies',\n",
       "       'Which of these desserts do you typically have at Thanksgiving dinner? Please select all that apply.   - Carrot cake',\n",
       "       'Which of these desserts do you typically have at Thanksgiving dinner? Please select all that apply.   - Cheesecake',\n",
       "       'Which of these desserts do you typically have at Thanksgiving dinner? Please select all that apply.   - Cookies',\n",
       "       'Which of these desserts do you typically have at Thanksgiving dinner? Please select all that apply.   - Fudge',\n",
       "       'Which of these desserts do you typically have at Thanksgiving dinner? Please select all that apply.   - Ice cream',\n",
       "       'Which of these desserts do you typically have at Thanksgiving dinner? Please select all that apply.   - Peach cobbler',\n",
       "       'Which of these desserts do you typically have at Thanksgiving dinner? Please select all that apply.   - None',\n",
       "       'Which of these desserts do you typically have at Thanksgiving dinner? Please select all that apply.   - Other (please specify)',\n",
       "       'Which of these desserts do you typically have at Thanksgiving dinner? Please select all that apply.   - Other (please specify).1',\n",
       "       'Do you typically pray before or after the Thanksgiving meal?',\n",
       "       'How far will you travel for Thanksgiving?',\n",
       "       'Will you watch any of the following programs on Thanksgiving? Please select all that apply. - Macy's Parade',\n",
       "       'What's the age cutoff at your \"kids' table\" at Thanksgiving?',\n",
       "       'Have you ever tried to meet up with hometown friends on Thanksgiving night?',\n",
       "       'Have you ever attended a \"Friendsgiving?\"',\n",
       "       'Will you shop any Black Friday sales on Thanksgiving Day?',\n",
       "       'Do you work in retail?',\n",
       "       'Will you employer make you work on Black Friday?',\n",
       "       'How would you describe where you live?', 'Age', 'What is your gender?',\n",
       "       'How much total combined money did all members of your HOUSEHOLD earn last year?',\n",
       "       'US Region'],\n",
       "      dtype='object')"
      ]
     },
     "execution_count": 31,
     "metadata": {},
     "output_type": "execute_result"
    }
   ],
   "source": [
    "data.columns"
   ]
  },
  {
   "cell_type": "code",
   "execution_count": 3,
   "metadata": {
    "collapsed": true
   },
   "outputs": [],
   "source": [
    "celebrate = data[data['Do you celebrate Thanksgiving?']== 'Yes']"
   ]
  },
  {
   "cell_type": "code",
   "execution_count": 4,
   "metadata": {
    "collapsed": true
   },
   "outputs": [],
   "source": [
    "celebrate = pd.DataFrame(data = celebrate)"
   ]
  },
  {
   "cell_type": "code",
   "execution_count": 5,
   "metadata": {},
   "outputs": [
    {
     "data": {
      "text/plain": [
       "Turkey    859\n",
       "Name: What is typically the main dish at your Thanksgiving dinner?, dtype: int64"
      ]
     },
     "execution_count": 5,
     "metadata": {},
     "output_type": "execute_result"
    }
   ],
   "source": [
    "celebrate['What is typically the main dish at your Thanksgiving dinner?'].value_counts().head(1)"
   ]
  },
  {
   "cell_type": "code",
   "execution_count": 6,
   "metadata": {
    "collapsed": true
   },
   "outputs": [],
   "source": [
    "tofurkey = pd.DataFrame(celebrate[celebrate['What is typically the main dish at your Thanksgiving dinner?'] == \"Tofurkey\"])"
   ]
  },
  {
   "cell_type": "code",
   "execution_count": 19,
   "metadata": {},
   "outputs": [
    {
     "data": {
      "text/plain": [
       "20"
      ]
     },
     "execution_count": 19,
     "metadata": {},
     "output_type": "execute_result"
    }
   ],
   "source": [
    "tofurkey['Do you typically have gravy?'].count()"
   ]
  },
  {
   "cell_type": "code",
   "execution_count": 20,
   "metadata": {
    "collapsed": true
   },
   "outputs": [],
   "source": [
    "pie = pd.DataFrame(celebrate.columns[27:39])"
   ]
  },
  {
   "cell_type": "code",
   "execution_count": 23,
   "metadata": {},
   "outputs": [
    {
     "data": {
      "text/plain": [
       "0    11\n",
       "dtype: int64"
      ]
     },
     "execution_count": 23,
     "metadata": {},
     "output_type": "execute_result"
    }
   ],
   "source": [
    "pie.drop(pie[6:8], axis = 0).count()"
   ]
  },
  {
   "cell_type": "code",
   "execution_count": 26,
   "metadata": {
    "collapsed": true
   },
   "outputs": [],
   "source": [
    "import math\n",
    "\n",
    "def age(value):\n",
    "    if value == '45 - 59':\n",
    "        return ((45+59)/2)\n",
    "    elif value == '30 - 44':\n",
    "        return ((30+44)/2)\n",
    "    elif value == '18 - 29':\n",
    "        return ((18+29)/2)\n",
    "    elif value == '60+':\n",
    "        return ((60+78)/2)\n",
    "    elif isinstance(value, float) and math.isnan(value):\n",
    "        return np.nan"
   ]
  },
  {
   "cell_type": "code",
   "execution_count": 8,
   "metadata": {
    "collapsed": true
   },
   "outputs": [],
   "source": [
    "data[\"Age\"] = data['Age'].apply(age)"
   ]
  },
  {
   "cell_type": "code",
   "execution_count": 27,
   "metadata": {},
   "outputs": [
    {
     "data": {
      "text/plain": [
       "45 - 59    286\n",
       "60+        264\n",
       "30 - 44    259\n",
       "18 - 29    216\n",
       "Name: Age, dtype: int64"
      ]
     },
     "execution_count": 27,
     "metadata": {},
     "output_type": "execute_result"
    }
   ],
   "source": [
    "data[\"Age\"].value_counts()"
   ]
  },
  {
   "cell_type": "code",
   "execution_count": 28,
   "metadata": {},
   "outputs": [
    {
     "data": {
      "text/plain": [
       "count        1025\n",
       "unique          4\n",
       "top       45 - 59\n",
       "freq          286\n",
       "Name: Age, dtype: object"
      ]
     },
     "execution_count": 28,
     "metadata": {},
     "output_type": "execute_result"
    }
   ],
   "source": [
    "data['Age'].describe()"
   ]
  },
  {
   "cell_type": "code",
   "execution_count": 29,
   "metadata": {},
   "outputs": [
    {
     "data": {
      "text/plain": [
       "$25,000 to $49,999      180\n",
       "Prefer not to answer    136\n",
       "$50,000 to $74,999      135\n",
       "$75,000 to $99,999      133\n",
       "$100,000 to $124,999    111\n",
       "$200,000 and up          80\n",
       "$10,000 to $24,999       68\n",
       "$0 to $9,999             66\n",
       "$125,000 to $149,999     49\n",
       "$150,000 to $174,999     40\n",
       "NaN                      33\n",
       "$175,000 to $199,999     27\n",
       "Name: How much total combined money did all members of your HOUSEHOLD earn last year?, dtype: int64"
      ]
     },
     "execution_count": 29,
     "metadata": {},
     "output_type": "execute_result"
    }
   ],
   "source": [
    "data['How much total combined money did all members of your HOUSEHOLD earn last year?'].value_counts(dropna = False)"
   ]
  },
  {
   "cell_type": "code",
   "execution_count": 30,
   "metadata": {
    "collapsed": true
   },
   "outputs": [],
   "source": [
    "def income(value):\n",
    "    if value == '$200,000 and up':\n",
    "        return 200000\n",
    "    elif value == 'Prefer not to answer':\n",
    "        return np.nan\n",
    "    elif isinstance(value, float) and math.isnan(value):\n",
    "        return np.nan\n",
    "    \n",
    "    value = value.replace(\",\", \"\").replace(\"$\", \"\")\n",
    "    income_high, income_low = value.split(\" to \")\n",
    "    return (int(income_high) + int(income_low))/2"
   ]
  },
  {
   "cell_type": "code",
   "execution_count": 31,
   "metadata": {
    "collapsed": true
   },
   "outputs": [],
   "source": [
    "data[\"income\"] = data['How much total combined money did all members of your HOUSEHOLD earn last year?'].apply(income)"
   ]
  },
  {
   "cell_type": "code",
   "execution_count": 32,
   "metadata": {},
   "outputs": [
    {
     "data": {
      "text/plain": [
       "count       889.000000\n",
       "mean      84513.043307\n",
       "std       58203.612943\n",
       "min        4999.500000\n",
       "25%       37499.500000\n",
       "50%       62499.500000\n",
       "75%      112499.500000\n",
       "max      200000.000000\n",
       "Name: income, dtype: float64"
      ]
     },
     "execution_count": 32,
     "metadata": {},
     "output_type": "execute_result"
    }
   ],
   "source": [
    "data[\"income\"].describe()"
   ]
  },
  {
   "cell_type": "code",
   "execution_count": 33,
   "metadata": {
    "collapsed": true
   },
   "outputs": [],
   "source": [
    "group = data.groupby(['How far will you travel for Thanksgiving?', 'How much total combined money did all members of your HOUSEHOLD earn last year?'])"
   ]
  },
  {
   "cell_type": "code",
   "execution_count": 34,
   "metadata": {},
   "outputs": [
    {
     "data": {
      "text/html": [
       "<div>\n",
       "<style>\n",
       "    .dataframe thead tr:only-child th {\n",
       "        text-align: right;\n",
       "    }\n",
       "\n",
       "    .dataframe thead th {\n",
       "        text-align: left;\n",
       "    }\n",
       "\n",
       "    .dataframe tbody tr th {\n",
       "        vertical-align: top;\n",
       "    }\n",
       "</style>\n",
       "<table border=\"1\" class=\"dataframe\">\n",
       "  <thead>\n",
       "    <tr style=\"text-align: right;\">\n",
       "      <th></th>\n",
       "      <th></th>\n",
       "      <th>RespondentID</th>\n",
       "      <th>income</th>\n",
       "    </tr>\n",
       "    <tr>\n",
       "      <th>How far will you travel for Thanksgiving?</th>\n",
       "      <th>How much total combined money did all members of your HOUSEHOLD earn last year?</th>\n",
       "      <th></th>\n",
       "      <th></th>\n",
       "    </tr>\n",
       "  </thead>\n",
       "  <tbody>\n",
       "    <tr>\n",
       "      <th rowspan=\"11\" valign=\"top\">Thanksgiving is happening at my home--I won't travel at all</th>\n",
       "      <th>$0 to $9,999</th>\n",
       "      <td>4.336759e+09</td>\n",
       "      <td>4999.5</td>\n",
       "    </tr>\n",
       "    <tr>\n",
       "      <th>$10,000 to $24,999</th>\n",
       "      <td>4.336631e+09</td>\n",
       "      <td>17499.5</td>\n",
       "    </tr>\n",
       "    <tr>\n",
       "      <th>$100,000 to $124,999</th>\n",
       "      <td>4.336672e+09</td>\n",
       "      <td>112499.5</td>\n",
       "    </tr>\n",
       "    <tr>\n",
       "      <th>$125,000 to $149,999</th>\n",
       "      <td>4.336643e+09</td>\n",
       "      <td>137499.5</td>\n",
       "    </tr>\n",
       "    <tr>\n",
       "      <th>$150,000 to $174,999</th>\n",
       "      <td>4.336724e+09</td>\n",
       "      <td>162499.5</td>\n",
       "    </tr>\n",
       "    <tr>\n",
       "      <th>$175,000 to $199,999</th>\n",
       "      <td>4.336856e+09</td>\n",
       "      <td>187499.5</td>\n",
       "    </tr>\n",
       "    <tr>\n",
       "      <th>$200,000 and up</th>\n",
       "      <td>4.336706e+09</td>\n",
       "      <td>200000.0</td>\n",
       "    </tr>\n",
       "    <tr>\n",
       "      <th>$25,000 to $49,999</th>\n",
       "      <td>4.336651e+09</td>\n",
       "      <td>37499.5</td>\n",
       "    </tr>\n",
       "    <tr>\n",
       "      <th>$50,000 to $74,999</th>\n",
       "      <td>4.336642e+09</td>\n",
       "      <td>62499.5</td>\n",
       "    </tr>\n",
       "    <tr>\n",
       "      <th>$75,000 to $99,999</th>\n",
       "      <td>4.336858e+09</td>\n",
       "      <td>87499.5</td>\n",
       "    </tr>\n",
       "    <tr>\n",
       "      <th>Prefer not to answer</th>\n",
       "      <td>4.336807e+09</td>\n",
       "      <td>NaN</td>\n",
       "    </tr>\n",
       "    <tr>\n",
       "      <th rowspan=\"11\" valign=\"top\">Thanksgiving is local--it will take place in the town I live in</th>\n",
       "      <th>$0 to $9,999</th>\n",
       "      <td>4.336608e+09</td>\n",
       "      <td>4999.5</td>\n",
       "    </tr>\n",
       "    <tr>\n",
       "      <th>$10,000 to $24,999</th>\n",
       "      <td>4.336685e+09</td>\n",
       "      <td>17499.5</td>\n",
       "    </tr>\n",
       "    <tr>\n",
       "      <th>$100,000 to $124,999</th>\n",
       "      <td>4.336768e+09</td>\n",
       "      <td>112499.5</td>\n",
       "    </tr>\n",
       "    <tr>\n",
       "      <th>$125,000 to $149,999</th>\n",
       "      <td>4.336766e+09</td>\n",
       "      <td>137499.5</td>\n",
       "    </tr>\n",
       "    <tr>\n",
       "      <th>$150,000 to $174,999</th>\n",
       "      <td>4.336718e+09</td>\n",
       "      <td>162499.5</td>\n",
       "    </tr>\n",
       "    <tr>\n",
       "      <th>$175,000 to $199,999</th>\n",
       "      <td>4.336567e+09</td>\n",
       "      <td>187499.5</td>\n",
       "    </tr>\n",
       "    <tr>\n",
       "      <th>$200,000 and up</th>\n",
       "      <td>4.336993e+09</td>\n",
       "      <td>200000.0</td>\n",
       "    </tr>\n",
       "    <tr>\n",
       "      <th>$25,000 to $49,999</th>\n",
       "      <td>4.336850e+09</td>\n",
       "      <td>37499.5</td>\n",
       "    </tr>\n",
       "    <tr>\n",
       "      <th>$50,000 to $74,999</th>\n",
       "      <td>4.336727e+09</td>\n",
       "      <td>62499.5</td>\n",
       "    </tr>\n",
       "    <tr>\n",
       "      <th>$75,000 to $99,999</th>\n",
       "      <td>4.336709e+09</td>\n",
       "      <td>87499.5</td>\n",
       "    </tr>\n",
       "    <tr>\n",
       "      <th>Prefer not to answer</th>\n",
       "      <td>4.336850e+09</td>\n",
       "      <td>NaN</td>\n",
       "    </tr>\n",
       "    <tr>\n",
       "      <th rowspan=\"11\" valign=\"top\">Thanksgiving is out of town and far away--I have to drive several hours or fly</th>\n",
       "      <th>$0 to $9,999</th>\n",
       "      <td>4.336543e+09</td>\n",
       "      <td>4999.5</td>\n",
       "    </tr>\n",
       "    <tr>\n",
       "      <th>$10,000 to $24,999</th>\n",
       "      <td>4.337286e+09</td>\n",
       "      <td>17499.5</td>\n",
       "    </tr>\n",
       "    <tr>\n",
       "      <th>$100,000 to $124,999</th>\n",
       "      <td>4.336883e+09</td>\n",
       "      <td>112499.5</td>\n",
       "    </tr>\n",
       "    <tr>\n",
       "      <th>$125,000 to $149,999</th>\n",
       "      <td>4.336627e+09</td>\n",
       "      <td>137499.5</td>\n",
       "    </tr>\n",
       "    <tr>\n",
       "      <th>$150,000 to $174,999</th>\n",
       "      <td>4.336683e+09</td>\n",
       "      <td>162499.5</td>\n",
       "    </tr>\n",
       "    <tr>\n",
       "      <th>$175,000 to $199,999</th>\n",
       "      <td>4.337054e+09</td>\n",
       "      <td>187499.5</td>\n",
       "    </tr>\n",
       "    <tr>\n",
       "      <th>$200,000 and up</th>\n",
       "      <td>4.336733e+09</td>\n",
       "      <td>200000.0</td>\n",
       "    </tr>\n",
       "    <tr>\n",
       "      <th>$25,000 to $49,999</th>\n",
       "      <td>4.336676e+09</td>\n",
       "      <td>37499.5</td>\n",
       "    </tr>\n",
       "    <tr>\n",
       "      <th>$50,000 to $74,999</th>\n",
       "      <td>4.336960e+09</td>\n",
       "      <td>62499.5</td>\n",
       "    </tr>\n",
       "    <tr>\n",
       "      <th>$75,000 to $99,999</th>\n",
       "      <td>4.337091e+09</td>\n",
       "      <td>87499.5</td>\n",
       "    </tr>\n",
       "    <tr>\n",
       "      <th>Prefer not to answer</th>\n",
       "      <td>4.336721e+09</td>\n",
       "      <td>NaN</td>\n",
       "    </tr>\n",
       "    <tr>\n",
       "      <th rowspan=\"11\" valign=\"top\">Thanksgiving is out of town but not too far--it's a drive of a few hours or less</th>\n",
       "      <th>$0 to $9,999</th>\n",
       "      <td>4.336678e+09</td>\n",
       "      <td>4999.5</td>\n",
       "    </tr>\n",
       "    <tr>\n",
       "      <th>$10,000 to $24,999</th>\n",
       "      <td>4.336431e+09</td>\n",
       "      <td>17499.5</td>\n",
       "    </tr>\n",
       "    <tr>\n",
       "      <th>$100,000 to $124,999</th>\n",
       "      <td>4.336757e+09</td>\n",
       "      <td>112499.5</td>\n",
       "    </tr>\n",
       "    <tr>\n",
       "      <th>$125,000 to $149,999</th>\n",
       "      <td>4.336280e+09</td>\n",
       "      <td>137499.5</td>\n",
       "    </tr>\n",
       "    <tr>\n",
       "      <th>$150,000 to $174,999</th>\n",
       "      <td>4.336707e+09</td>\n",
       "      <td>162499.5</td>\n",
       "    </tr>\n",
       "    <tr>\n",
       "      <th>$175,000 to $199,999</th>\n",
       "      <td>4.336588e+09</td>\n",
       "      <td>187499.5</td>\n",
       "    </tr>\n",
       "    <tr>\n",
       "      <th>$200,000 and up</th>\n",
       "      <td>4.336839e+09</td>\n",
       "      <td>200000.0</td>\n",
       "    </tr>\n",
       "    <tr>\n",
       "      <th>$25,000 to $49,999</th>\n",
       "      <td>4.336833e+09</td>\n",
       "      <td>37499.5</td>\n",
       "    </tr>\n",
       "    <tr>\n",
       "      <th>$50,000 to $74,999</th>\n",
       "      <td>4.336790e+09</td>\n",
       "      <td>62499.5</td>\n",
       "    </tr>\n",
       "    <tr>\n",
       "      <th>$75,000 to $99,999</th>\n",
       "      <td>4.336792e+09</td>\n",
       "      <td>87499.5</td>\n",
       "    </tr>\n",
       "    <tr>\n",
       "      <th>Prefer not to answer</th>\n",
       "      <td>4.336539e+09</td>\n",
       "      <td>NaN</td>\n",
       "    </tr>\n",
       "  </tbody>\n",
       "</table>\n",
       "</div>"
      ],
      "text/plain": [
       "                                                                                                       RespondentID  \\\n",
       "How far will you travel for Thanksgiving?          How much total combined money did all members o...                 \n",
       "Thanksgiving is happening at my home--I won't t... $0 to $9,999                                        4.336759e+09   \n",
       "                                                   $10,000 to $24,999                                  4.336631e+09   \n",
       "                                                   $100,000 to $124,999                                4.336672e+09   \n",
       "                                                   $125,000 to $149,999                                4.336643e+09   \n",
       "                                                   $150,000 to $174,999                                4.336724e+09   \n",
       "                                                   $175,000 to $199,999                                4.336856e+09   \n",
       "                                                   $200,000 and up                                     4.336706e+09   \n",
       "                                                   $25,000 to $49,999                                  4.336651e+09   \n",
       "                                                   $50,000 to $74,999                                  4.336642e+09   \n",
       "                                                   $75,000 to $99,999                                  4.336858e+09   \n",
       "                                                   Prefer not to answer                                4.336807e+09   \n",
       "Thanksgiving is local--it will take place in th... $0 to $9,999                                        4.336608e+09   \n",
       "                                                   $10,000 to $24,999                                  4.336685e+09   \n",
       "                                                   $100,000 to $124,999                                4.336768e+09   \n",
       "                                                   $125,000 to $149,999                                4.336766e+09   \n",
       "                                                   $150,000 to $174,999                                4.336718e+09   \n",
       "                                                   $175,000 to $199,999                                4.336567e+09   \n",
       "                                                   $200,000 and up                                     4.336993e+09   \n",
       "                                                   $25,000 to $49,999                                  4.336850e+09   \n",
       "                                                   $50,000 to $74,999                                  4.336727e+09   \n",
       "                                                   $75,000 to $99,999                                  4.336709e+09   \n",
       "                                                   Prefer not to answer                                4.336850e+09   \n",
       "Thanksgiving is out of town and far away--I hav... $0 to $9,999                                        4.336543e+09   \n",
       "                                                   $10,000 to $24,999                                  4.337286e+09   \n",
       "                                                   $100,000 to $124,999                                4.336883e+09   \n",
       "                                                   $125,000 to $149,999                                4.336627e+09   \n",
       "                                                   $150,000 to $174,999                                4.336683e+09   \n",
       "                                                   $175,000 to $199,999                                4.337054e+09   \n",
       "                                                   $200,000 and up                                     4.336733e+09   \n",
       "                                                   $25,000 to $49,999                                  4.336676e+09   \n",
       "                                                   $50,000 to $74,999                                  4.336960e+09   \n",
       "                                                   $75,000 to $99,999                                  4.337091e+09   \n",
       "                                                   Prefer not to answer                                4.336721e+09   \n",
       "Thanksgiving is out of town but not too far--it... $0 to $9,999                                        4.336678e+09   \n",
       "                                                   $10,000 to $24,999                                  4.336431e+09   \n",
       "                                                   $100,000 to $124,999                                4.336757e+09   \n",
       "                                                   $125,000 to $149,999                                4.336280e+09   \n",
       "                                                   $150,000 to $174,999                                4.336707e+09   \n",
       "                                                   $175,000 to $199,999                                4.336588e+09   \n",
       "                                                   $200,000 and up                                     4.336839e+09   \n",
       "                                                   $25,000 to $49,999                                  4.336833e+09   \n",
       "                                                   $50,000 to $74,999                                  4.336790e+09   \n",
       "                                                   $75,000 to $99,999                                  4.336792e+09   \n",
       "                                                   Prefer not to answer                                4.336539e+09   \n",
       "\n",
       "                                                                                                         income  \n",
       "How far will you travel for Thanksgiving?          How much total combined money did all members o...            \n",
       "Thanksgiving is happening at my home--I won't t... $0 to $9,999                                          4999.5  \n",
       "                                                   $10,000 to $24,999                                   17499.5  \n",
       "                                                   $100,000 to $124,999                                112499.5  \n",
       "                                                   $125,000 to $149,999                                137499.5  \n",
       "                                                   $150,000 to $174,999                                162499.5  \n",
       "                                                   $175,000 to $199,999                                187499.5  \n",
       "                                                   $200,000 and up                                     200000.0  \n",
       "                                                   $25,000 to $49,999                                   37499.5  \n",
       "                                                   $50,000 to $74,999                                   62499.5  \n",
       "                                                   $75,000 to $99,999                                   87499.5  \n",
       "                                                   Prefer not to answer                                     NaN  \n",
       "Thanksgiving is local--it will take place in th... $0 to $9,999                                          4999.5  \n",
       "                                                   $10,000 to $24,999                                   17499.5  \n",
       "                                                   $100,000 to $124,999                                112499.5  \n",
       "                                                   $125,000 to $149,999                                137499.5  \n",
       "                                                   $150,000 to $174,999                                162499.5  \n",
       "                                                   $175,000 to $199,999                                187499.5  \n",
       "                                                   $200,000 and up                                     200000.0  \n",
       "                                                   $25,000 to $49,999                                   37499.5  \n",
       "                                                   $50,000 to $74,999                                   62499.5  \n",
       "                                                   $75,000 to $99,999                                   87499.5  \n",
       "                                                   Prefer not to answer                                     NaN  \n",
       "Thanksgiving is out of town and far away--I hav... $0 to $9,999                                          4999.5  \n",
       "                                                   $10,000 to $24,999                                   17499.5  \n",
       "                                                   $100,000 to $124,999                                112499.5  \n",
       "                                                   $125,000 to $149,999                                137499.5  \n",
       "                                                   $150,000 to $174,999                                162499.5  \n",
       "                                                   $175,000 to $199,999                                187499.5  \n",
       "                                                   $200,000 and up                                     200000.0  \n",
       "                                                   $25,000 to $49,999                                   37499.5  \n",
       "                                                   $50,000 to $74,999                                   62499.5  \n",
       "                                                   $75,000 to $99,999                                   87499.5  \n",
       "                                                   Prefer not to answer                                     NaN  \n",
       "Thanksgiving is out of town but not too far--it... $0 to $9,999                                          4999.5  \n",
       "                                                   $10,000 to $24,999                                   17499.5  \n",
       "                                                   $100,000 to $124,999                                112499.5  \n",
       "                                                   $125,000 to $149,999                                137499.5  \n",
       "                                                   $150,000 to $174,999                                162499.5  \n",
       "                                                   $175,000 to $199,999                                187499.5  \n",
       "                                                   $200,000 and up                                     200000.0  \n",
       "                                                   $25,000 to $49,999                                   37499.5  \n",
       "                                                   $50,000 to $74,999                                   62499.5  \n",
       "                                                   $75,000 to $99,999                                   87499.5  \n",
       "                                                   Prefer not to answer                                     NaN  "
      ]
     },
     "execution_count": 34,
     "metadata": {},
     "output_type": "execute_result"
    }
   ],
   "source": [
    "group.mean()"
   ]
  },
  {
   "cell_type": "code",
   "execution_count": 8,
   "metadata": {
    "collapsed": true
   },
   "outputs": [],
   "source": [
    "income = data['How much total combined money did all members of your HOUSEHOLD earn last year?']\n",
    "friend = data['Have you ever attended a \"Friendsgiving?\"']\n",
    "meetup = data['Have you ever tried to meet up with hometown friends on Thanksgiving night?']"
   ]
  },
  {
   "cell_type": "code",
   "execution_count": 9,
   "metadata": {
    "collapsed": true
   },
   "outputs": [],
   "source": [
    "dataframe = pd.DataFrame({'income': income,\n",
    "                         'friend': friend,\n",
    "                         'meetup': meetup})"
   ]
  },
  {
   "cell_type": "code",
   "execution_count": 52,
   "metadata": {},
   "outputs": [
    {
     "data": {
      "text/html": [
       "<div>\n",
       "<style>\n",
       "    .dataframe thead tr:only-child th {\n",
       "        text-align: right;\n",
       "    }\n",
       "\n",
       "    .dataframe thead th {\n",
       "        text-align: left;\n",
       "    }\n",
       "\n",
       "    .dataframe tbody tr th {\n",
       "        vertical-align: top;\n",
       "    }\n",
       "</style>\n",
       "<table border=\"1\" class=\"dataframe\">\n",
       "  <thead>\n",
       "    <tr>\n",
       "      <th></th>\n",
       "      <th></th>\n",
       "      <th colspan=\"21\" halign=\"left\">len</th>\n",
       "    </tr>\n",
       "    <tr>\n",
       "      <th></th>\n",
       "      <th></th>\n",
       "      <th colspan=\"10\" halign=\"left\">friend</th>\n",
       "      <th>...</th>\n",
       "      <th colspan=\"10\" halign=\"left\">meetup</th>\n",
       "    </tr>\n",
       "    <tr>\n",
       "      <th></th>\n",
       "      <th>income</th>\n",
       "      <th>$0 to $9,999</th>\n",
       "      <th>$10,000 to $24,999</th>\n",
       "      <th>$100,000 to $124,999</th>\n",
       "      <th>$125,000 to $149,999</th>\n",
       "      <th>$150,000 to $174,999</th>\n",
       "      <th>$175,000 to $199,999</th>\n",
       "      <th>$200,000 and up</th>\n",
       "      <th>$25,000 to $49,999</th>\n",
       "      <th>$50,000 to $74,999</th>\n",
       "      <th>$75,000 to $99,999</th>\n",
       "      <th>...</th>\n",
       "      <th>$10,000 to $24,999</th>\n",
       "      <th>$100,000 to $124,999</th>\n",
       "      <th>$125,000 to $149,999</th>\n",
       "      <th>$150,000 to $174,999</th>\n",
       "      <th>$175,000 to $199,999</th>\n",
       "      <th>$200,000 and up</th>\n",
       "      <th>$25,000 to $49,999</th>\n",
       "      <th>$50,000 to $74,999</th>\n",
       "      <th>$75,000 to $99,999</th>\n",
       "      <th>Prefer not to answer</th>\n",
       "    </tr>\n",
       "    <tr>\n",
       "      <th>Have you ever attended a \"Friendsgiving?\"</th>\n",
       "      <th>Have you ever tried to meet up with hometown friends on Thanksgiving night?</th>\n",
       "      <th></th>\n",
       "      <th></th>\n",
       "      <th></th>\n",
       "      <th></th>\n",
       "      <th></th>\n",
       "      <th></th>\n",
       "      <th></th>\n",
       "      <th></th>\n",
       "      <th></th>\n",
       "      <th></th>\n",
       "      <th></th>\n",
       "      <th></th>\n",
       "      <th></th>\n",
       "      <th></th>\n",
       "      <th></th>\n",
       "      <th></th>\n",
       "      <th></th>\n",
       "      <th></th>\n",
       "      <th></th>\n",
       "      <th></th>\n",
       "      <th></th>\n",
       "    </tr>\n",
       "  </thead>\n",
       "  <tbody>\n",
       "    <tr>\n",
       "      <th rowspan=\"2\" valign=\"top\">No</th>\n",
       "      <th>No</th>\n",
       "      <td>20.0</td>\n",
       "      <td>32.0</td>\n",
       "      <td>52.0</td>\n",
       "      <td>28.0</td>\n",
       "      <td>20.0</td>\n",
       "      <td>16.0</td>\n",
       "      <td>43.0</td>\n",
       "      <td>84.0</td>\n",
       "      <td>68.0</td>\n",
       "      <td>70.0</td>\n",
       "      <td>...</td>\n",
       "      <td>32.0</td>\n",
       "      <td>52.0</td>\n",
       "      <td>28.0</td>\n",
       "      <td>20.0</td>\n",
       "      <td>16.0</td>\n",
       "      <td>43.0</td>\n",
       "      <td>84.0</td>\n",
       "      <td>68.0</td>\n",
       "      <td>70.0</td>\n",
       "      <td>64.0</td>\n",
       "    </tr>\n",
       "    <tr>\n",
       "      <th>Yes</th>\n",
       "      <td>6.0</td>\n",
       "      <td>8.0</td>\n",
       "      <td>27.0</td>\n",
       "      <td>10.0</td>\n",
       "      <td>6.0</td>\n",
       "      <td>5.0</td>\n",
       "      <td>16.0</td>\n",
       "      <td>37.0</td>\n",
       "      <td>27.0</td>\n",
       "      <td>26.0</td>\n",
       "      <td>...</td>\n",
       "      <td>8.0</td>\n",
       "      <td>27.0</td>\n",
       "      <td>10.0</td>\n",
       "      <td>6.0</td>\n",
       "      <td>5.0</td>\n",
       "      <td>16.0</td>\n",
       "      <td>37.0</td>\n",
       "      <td>27.0</td>\n",
       "      <td>26.0</td>\n",
       "      <td>15.0</td>\n",
       "    </tr>\n",
       "    <tr>\n",
       "      <th rowspan=\"2\" valign=\"top\">Yes</th>\n",
       "      <th>No</th>\n",
       "      <td>7.0</td>\n",
       "      <td>4.0</td>\n",
       "      <td>8.0</td>\n",
       "      <td>4.0</td>\n",
       "      <td>5.0</td>\n",
       "      <td>NaN</td>\n",
       "      <td>8.0</td>\n",
       "      <td>15.0</td>\n",
       "      <td>16.0</td>\n",
       "      <td>9.0</td>\n",
       "      <td>...</td>\n",
       "      <td>4.0</td>\n",
       "      <td>8.0</td>\n",
       "      <td>4.0</td>\n",
       "      <td>5.0</td>\n",
       "      <td>NaN</td>\n",
       "      <td>8.0</td>\n",
       "      <td>15.0</td>\n",
       "      <td>16.0</td>\n",
       "      <td>9.0</td>\n",
       "      <td>19.0</td>\n",
       "    </tr>\n",
       "    <tr>\n",
       "      <th>Yes</th>\n",
       "      <td>19.0</td>\n",
       "      <td>16.0</td>\n",
       "      <td>22.0</td>\n",
       "      <td>6.0</td>\n",
       "      <td>7.0</td>\n",
       "      <td>5.0</td>\n",
       "      <td>9.0</td>\n",
       "      <td>30.0</td>\n",
       "      <td>16.0</td>\n",
       "      <td>22.0</td>\n",
       "      <td>...</td>\n",
       "      <td>16.0</td>\n",
       "      <td>22.0</td>\n",
       "      <td>6.0</td>\n",
       "      <td>7.0</td>\n",
       "      <td>5.0</td>\n",
       "      <td>9.0</td>\n",
       "      <td>30.0</td>\n",
       "      <td>16.0</td>\n",
       "      <td>22.0</td>\n",
       "      <td>20.0</td>\n",
       "    </tr>\n",
       "  </tbody>\n",
       "</table>\n",
       "<p>4 rows × 22 columns</p>\n",
       "</div>"
      ],
      "text/plain": [
       "                                                                                                      len  \\\n",
       "                                                                                                   friend   \n",
       "income                                                                                       $0 to $9,999   \n",
       "Have you ever attended a \"Friendsgiving?\" Have you ever tried to meet up with hometown fr...                \n",
       "No                                        No                                                         20.0   \n",
       "                                          Yes                                                         6.0   \n",
       "Yes                                       No                                                          7.0   \n",
       "                                          Yes                                                        19.0   \n",
       "\n",
       "                                                                                                                 \\\n",
       "                                                                                                                  \n",
       "income                                                                                       $10,000 to $24,999   \n",
       "Have you ever attended a \"Friendsgiving?\" Have you ever tried to meet up with hometown fr...                      \n",
       "No                                        No                                                               32.0   \n",
       "                                          Yes                                                               8.0   \n",
       "Yes                                       No                                                                4.0   \n",
       "                                          Yes                                                              16.0   \n",
       "\n",
       "                                                                                                                   \\\n",
       "                                                                                                                    \n",
       "income                                                                                       $100,000 to $124,999   \n",
       "Have you ever attended a \"Friendsgiving?\" Have you ever tried to meet up with hometown fr...                        \n",
       "No                                        No                                                                 52.0   \n",
       "                                          Yes                                                                27.0   \n",
       "Yes                                       No                                                                  8.0   \n",
       "                                          Yes                                                                22.0   \n",
       "\n",
       "                                                                                                                   \\\n",
       "                                                                                                                    \n",
       "income                                                                                       $125,000 to $149,999   \n",
       "Have you ever attended a \"Friendsgiving?\" Have you ever tried to meet up with hometown fr...                        \n",
       "No                                        No                                                                 28.0   \n",
       "                                          Yes                                                                10.0   \n",
       "Yes                                       No                                                                  4.0   \n",
       "                                          Yes                                                                 6.0   \n",
       "\n",
       "                                                                                                                   \\\n",
       "                                                                                                                    \n",
       "income                                                                                       $150,000 to $174,999   \n",
       "Have you ever attended a \"Friendsgiving?\" Have you ever tried to meet up with hometown fr...                        \n",
       "No                                        No                                                                 20.0   \n",
       "                                          Yes                                                                 6.0   \n",
       "Yes                                       No                                                                  5.0   \n",
       "                                          Yes                                                                 7.0   \n",
       "\n",
       "                                                                                                                   \\\n",
       "                                                                                                                    \n",
       "income                                                                                       $175,000 to $199,999   \n",
       "Have you ever attended a \"Friendsgiving?\" Have you ever tried to meet up with hometown fr...                        \n",
       "No                                        No                                                                 16.0   \n",
       "                                          Yes                                                                 5.0   \n",
       "Yes                                       No                                                                  NaN   \n",
       "                                          Yes                                                                 5.0   \n",
       "\n",
       "                                                                                                              \\\n",
       "                                                                                                               \n",
       "income                                                                                       $200,000 and up   \n",
       "Have you ever attended a \"Friendsgiving?\" Have you ever tried to meet up with hometown fr...                   \n",
       "No                                        No                                                            43.0   \n",
       "                                          Yes                                                           16.0   \n",
       "Yes                                       No                                                             8.0   \n",
       "                                          Yes                                                            9.0   \n",
       "\n",
       "                                                                                                                 \\\n",
       "                                                                                                                  \n",
       "income                                                                                       $25,000 to $49,999   \n",
       "Have you ever attended a \"Friendsgiving?\" Have you ever tried to meet up with hometown fr...                      \n",
       "No                                        No                                                               84.0   \n",
       "                                          Yes                                                              37.0   \n",
       "Yes                                       No                                                               15.0   \n",
       "                                          Yes                                                              30.0   \n",
       "\n",
       "                                                                                                                 \\\n",
       "                                                                                                                  \n",
       "income                                                                                       $50,000 to $74,999   \n",
       "Have you ever attended a \"Friendsgiving?\" Have you ever tried to meet up with hometown fr...                      \n",
       "No                                        No                                                               68.0   \n",
       "                                          Yes                                                              27.0   \n",
       "Yes                                       No                                                               16.0   \n",
       "                                          Yes                                                              16.0   \n",
       "\n",
       "                                                                                                                 \\\n",
       "                                                                                                                  \n",
       "income                                                                                       $75,000 to $99,999   \n",
       "Have you ever attended a \"Friendsgiving?\" Have you ever tried to meet up with hometown fr...                      \n",
       "No                                        No                                                               70.0   \n",
       "                                          Yes                                                              26.0   \n",
       "Yes                                       No                                                                9.0   \n",
       "                                          Yes                                                              22.0   \n",
       "\n",
       "                                                                                                     ...           \\\n",
       "                                                                                                     ...            \n",
       "income                                                                                               ...            \n",
       "Have you ever attended a \"Friendsgiving?\" Have you ever tried to meet up with hometown fr...         ...            \n",
       "No                                        No                                                         ...            \n",
       "                                          Yes                                                        ...            \n",
       "Yes                                       No                                                         ...            \n",
       "                                          Yes                                                        ...            \n",
       "\n",
       "                                                                                                                 \\\n",
       "                                                                                                         meetup   \n",
       "income                                                                                       $10,000 to $24,999   \n",
       "Have you ever attended a \"Friendsgiving?\" Have you ever tried to meet up with hometown fr...                      \n",
       "No                                        No                                                               32.0   \n",
       "                                          Yes                                                               8.0   \n",
       "Yes                                       No                                                                4.0   \n",
       "                                          Yes                                                              16.0   \n",
       "\n",
       "                                                                                                                   \\\n",
       "                                                                                                                    \n",
       "income                                                                                       $100,000 to $124,999   \n",
       "Have you ever attended a \"Friendsgiving?\" Have you ever tried to meet up with hometown fr...                        \n",
       "No                                        No                                                                 52.0   \n",
       "                                          Yes                                                                27.0   \n",
       "Yes                                       No                                                                  8.0   \n",
       "                                          Yes                                                                22.0   \n",
       "\n",
       "                                                                                                                   \\\n",
       "                                                                                                                    \n",
       "income                                                                                       $125,000 to $149,999   \n",
       "Have you ever attended a \"Friendsgiving?\" Have you ever tried to meet up with hometown fr...                        \n",
       "No                                        No                                                                 28.0   \n",
       "                                          Yes                                                                10.0   \n",
       "Yes                                       No                                                                  4.0   \n",
       "                                          Yes                                                                 6.0   \n",
       "\n",
       "                                                                                                                   \\\n",
       "                                                                                                                    \n",
       "income                                                                                       $150,000 to $174,999   \n",
       "Have you ever attended a \"Friendsgiving?\" Have you ever tried to meet up with hometown fr...                        \n",
       "No                                        No                                                                 20.0   \n",
       "                                          Yes                                                                 6.0   \n",
       "Yes                                       No                                                                  5.0   \n",
       "                                          Yes                                                                 7.0   \n",
       "\n",
       "                                                                                                                   \\\n",
       "                                                                                                                    \n",
       "income                                                                                       $175,000 to $199,999   \n",
       "Have you ever attended a \"Friendsgiving?\" Have you ever tried to meet up with hometown fr...                        \n",
       "No                                        No                                                                 16.0   \n",
       "                                          Yes                                                                 5.0   \n",
       "Yes                                       No                                                                  NaN   \n",
       "                                          Yes                                                                 5.0   \n",
       "\n",
       "                                                                                                              \\\n",
       "                                                                                                               \n",
       "income                                                                                       $200,000 and up   \n",
       "Have you ever attended a \"Friendsgiving?\" Have you ever tried to meet up with hometown fr...                   \n",
       "No                                        No                                                            43.0   \n",
       "                                          Yes                                                           16.0   \n",
       "Yes                                       No                                                             8.0   \n",
       "                                          Yes                                                            9.0   \n",
       "\n",
       "                                                                                                                 \\\n",
       "                                                                                                                  \n",
       "income                                                                                       $25,000 to $49,999   \n",
       "Have you ever attended a \"Friendsgiving?\" Have you ever tried to meet up with hometown fr...                      \n",
       "No                                        No                                                               84.0   \n",
       "                                          Yes                                                              37.0   \n",
       "Yes                                       No                                                               15.0   \n",
       "                                          Yes                                                              30.0   \n",
       "\n",
       "                                                                                                                 \\\n",
       "                                                                                                                  \n",
       "income                                                                                       $50,000 to $74,999   \n",
       "Have you ever attended a \"Friendsgiving?\" Have you ever tried to meet up with hometown fr...                      \n",
       "No                                        No                                                               68.0   \n",
       "                                          Yes                                                              27.0   \n",
       "Yes                                       No                                                               16.0   \n",
       "                                          Yes                                                              16.0   \n",
       "\n",
       "                                                                                                                 \\\n",
       "                                                                                                                  \n",
       "income                                                                                       $75,000 to $99,999   \n",
       "Have you ever attended a \"Friendsgiving?\" Have you ever tried to meet up with hometown fr...                      \n",
       "No                                        No                                                               70.0   \n",
       "                                          Yes                                                              26.0   \n",
       "Yes                                       No                                                                9.0   \n",
       "                                          Yes                                                              22.0   \n",
       "\n",
       "                                                                                                                   \n",
       "                                                                                                                   \n",
       "income                                                                                       Prefer not to answer  \n",
       "Have you ever attended a \"Friendsgiving?\" Have you ever tried to meet up with hometown fr...                       \n",
       "No                                        No                                                                 64.0  \n",
       "                                          Yes                                                                15.0  \n",
       "Yes                                       No                                                                 19.0  \n",
       "                                          Yes                                                                20.0  \n",
       "\n",
       "[4 rows x 22 columns]"
      ]
     },
     "execution_count": 52,
     "metadata": {},
     "output_type": "execute_result"
    }
   ],
   "source": [
    "pd.pivot_table(dataframe, index = [friend, meetup], columns = 'income', aggfunc = [len])"
   ]
  },
  {
   "cell_type": "markdown",
   "metadata": {},
   "source": [
    "data_income = celebrate['How much total combined money did all members of your HOUSEHOLD earn last year?'].apply(income)"
   ]
  },
  {
   "cell_type": "markdown",
   "metadata": {},
   "source": [
    "### Task 3 - Visualization\n",
    "\n",
    "matplotlib\n",
    "- Use groupby to examine the breakdown of income by type of cranberry sauce\n",
    "- Use agg to compute the mean and plot the results in a bar chart\n",
    "- Use agg to find the average income of people who eat \"Homemade\" cranberry sauce and \"Tofurkey\"\n",
    "- Choose an appropriate plot or chart to visualize the results"
   ]
  },
  {
   "cell_type": "code",
   "execution_count": 189,
   "metadata": {
    "collapsed": true
   },
   "outputs": [],
   "source": [
    "cran = celebrate['What type of cranberry saucedo you typically have?']"
   ]
  },
  {
   "cell_type": "code",
   "execution_count": 191,
   "metadata": {
    "collapsed": true
   },
   "outputs": [],
   "source": [
    "money = celebrate['How much total combined money did all members of your HOUSEHOLD earn last year?']"
   ]
  },
  {
   "cell_type": "code",
   "execution_count": null,
   "metadata": {
    "collapsed": true
   },
   "outputs": [],
   "source": []
  },
  {
   "cell_type": "code",
   "execution_count": 192,
   "metadata": {
    "collapsed": true
   },
   "outputs": [],
   "source": [
    "sauce = pd.DataFrame({'p1': cran, \n",
    "              'p2': money})"
   ]
  },
  {
   "cell_type": "code",
   "execution_count": 211,
   "metadata": {},
   "outputs": [
    {
     "data": {
      "text/plain": [
       "<pandas.core.groupby.DataFrameGroupBy object at 0x11a0d8dd8>"
      ]
     },
     "execution_count": 211,
     "metadata": {},
     "output_type": "execute_result"
    }
   ],
   "source": [
    "sauce.groupby('p1').value_counts()"
   ]
  },
  {
   "cell_type": "code",
   "execution_count": 197,
   "metadata": {
    "collapsed": true
   },
   "outputs": [],
   "source": [
    "x = sauce.groupby('p1')"
   ]
  },
  {
   "cell_type": "code",
   "execution_count": 199,
   "metadata": {},
   "outputs": [
    {
     "data": {
      "text/html": [
       "<div>\n",
       "<style>\n",
       "    .dataframe thead tr:only-child th {\n",
       "        text-align: right;\n",
       "    }\n",
       "\n",
       "    .dataframe thead th {\n",
       "        text-align: left;\n",
       "    }\n",
       "\n",
       "    .dataframe tbody tr th {\n",
       "        vertical-align: top;\n",
       "    }\n",
       "</style>\n",
       "<table border=\"1\" class=\"dataframe\">\n",
       "  <thead>\n",
       "    <tr style=\"text-align: right;\">\n",
       "      <th></th>\n",
       "      <th>p2</th>\n",
       "    </tr>\n",
       "    <tr>\n",
       "      <th>p1</th>\n",
       "      <th></th>\n",
       "    </tr>\n",
       "  </thead>\n",
       "  <tbody>\n",
       "    <tr>\n",
       "      <th>Canned</th>\n",
       "      <td>492</td>\n",
       "    </tr>\n",
       "    <tr>\n",
       "      <th>Homemade</th>\n",
       "      <td>287</td>\n",
       "    </tr>\n",
       "    <tr>\n",
       "      <th>None</th>\n",
       "      <td>143</td>\n",
       "    </tr>\n",
       "    <tr>\n",
       "      <th>Other (please specify)</th>\n",
       "      <td>25</td>\n",
       "    </tr>\n",
       "  </tbody>\n",
       "</table>\n",
       "</div>"
      ],
      "text/plain": [
       "                         p2\n",
       "p1                         \n",
       "Canned                  492\n",
       "Homemade                287\n",
       "None                    143\n",
       "Other (please specify)   25"
      ]
     },
     "execution_count": 199,
     "metadata": {},
     "output_type": "execute_result"
    }
   ],
   "source": [
    "x.count()"
   ]
  },
  {
   "cell_type": "code",
   "execution_count": 200,
   "metadata": {},
   "outputs": [
    {
     "ename": "TypeError",
     "evalue": "Empty 'DataFrame': no numeric data to plot",
     "output_type": "error",
     "traceback": [
      "\u001b[0;31m---------------------------------------------------------------------------\u001b[0m",
      "\u001b[0;31mTypeError\u001b[0m                                 Traceback (most recent call last)",
      "\u001b[0;32m<ipython-input-200-861ac17cdf4a>\u001b[0m in \u001b[0;36m<module>\u001b[0;34m()\u001b[0m\n\u001b[0;32m----> 1\u001b[0;31m \u001b[0mx\u001b[0m\u001b[0;34m.\u001b[0m\u001b[0mplot\u001b[0m\u001b[0;34m.\u001b[0m\u001b[0mbar\u001b[0m\u001b[0;34m(\u001b[0m\u001b[0mstacked\u001b[0m \u001b[0;34m=\u001b[0m \u001b[0;32mTrue\u001b[0m\u001b[0;34m)\u001b[0m\u001b[0;34m\u001b[0m\u001b[0m\n\u001b[0m",
      "\u001b[0;32m/Users/robinwilson/anaconda/lib/python3.6/site-packages/pandas/core/groupby.py\u001b[0m in \u001b[0;36mattr\u001b[0;34m(*args, **kwargs)\u001b[0m\n\u001b[1;32m    353\u001b[0m             \u001b[0;32mdef\u001b[0m \u001b[0mf\u001b[0m\u001b[0;34m(\u001b[0m\u001b[0mself\u001b[0m\u001b[0;34m)\u001b[0m\u001b[0;34m:\u001b[0m\u001b[0;34m\u001b[0m\u001b[0m\n\u001b[1;32m    354\u001b[0m                 \u001b[0;32mreturn\u001b[0m \u001b[0mgetattr\u001b[0m\u001b[0;34m(\u001b[0m\u001b[0mself\u001b[0m\u001b[0;34m.\u001b[0m\u001b[0mplot\u001b[0m\u001b[0;34m,\u001b[0m \u001b[0mname\u001b[0m\u001b[0;34m)\u001b[0m\u001b[0;34m(\u001b[0m\u001b[0;34m*\u001b[0m\u001b[0margs\u001b[0m\u001b[0;34m,\u001b[0m \u001b[0;34m**\u001b[0m\u001b[0mkwargs\u001b[0m\u001b[0;34m)\u001b[0m\u001b[0;34m\u001b[0m\u001b[0m\n\u001b[0;32m--> 355\u001b[0;31m             \u001b[0;32mreturn\u001b[0m \u001b[0mself\u001b[0m\u001b[0;34m.\u001b[0m\u001b[0m_groupby\u001b[0m\u001b[0;34m.\u001b[0m\u001b[0mapply\u001b[0m\u001b[0;34m(\u001b[0m\u001b[0mf\u001b[0m\u001b[0;34m)\u001b[0m\u001b[0;34m\u001b[0m\u001b[0m\n\u001b[0m\u001b[1;32m    356\u001b[0m         \u001b[0;32mreturn\u001b[0m \u001b[0mattr\u001b[0m\u001b[0;34m\u001b[0m\u001b[0m\n\u001b[1;32m    357\u001b[0m \u001b[0;34m\u001b[0m\u001b[0m\n",
      "\u001b[0;32m/Users/robinwilson/anaconda/lib/python3.6/site-packages/pandas/core/groupby.py\u001b[0m in \u001b[0;36mapply\u001b[0;34m(self, func, *args, **kwargs)\u001b[0m\n\u001b[1;32m    714\u001b[0m         \u001b[0;31m# ignore SettingWithCopy here in case the user mutates\u001b[0m\u001b[0;34m\u001b[0m\u001b[0;34m\u001b[0m\u001b[0m\n\u001b[1;32m    715\u001b[0m         \u001b[0;32mwith\u001b[0m \u001b[0moption_context\u001b[0m\u001b[0;34m(\u001b[0m\u001b[0;34m'mode.chained_assignment'\u001b[0m\u001b[0;34m,\u001b[0m \u001b[0;32mNone\u001b[0m\u001b[0;34m)\u001b[0m\u001b[0;34m:\u001b[0m\u001b[0;34m\u001b[0m\u001b[0m\n\u001b[0;32m--> 716\u001b[0;31m             \u001b[0;32mreturn\u001b[0m \u001b[0mself\u001b[0m\u001b[0;34m.\u001b[0m\u001b[0m_python_apply_general\u001b[0m\u001b[0;34m(\u001b[0m\u001b[0mf\u001b[0m\u001b[0;34m)\u001b[0m\u001b[0;34m\u001b[0m\u001b[0m\n\u001b[0m\u001b[1;32m    717\u001b[0m \u001b[0;34m\u001b[0m\u001b[0m\n\u001b[1;32m    718\u001b[0m     \u001b[0;32mdef\u001b[0m \u001b[0m_python_apply_general\u001b[0m\u001b[0;34m(\u001b[0m\u001b[0mself\u001b[0m\u001b[0;34m,\u001b[0m \u001b[0mf\u001b[0m\u001b[0;34m)\u001b[0m\u001b[0;34m:\u001b[0m\u001b[0;34m\u001b[0m\u001b[0m\n",
      "\u001b[0;32m/Users/robinwilson/anaconda/lib/python3.6/site-packages/pandas/core/groupby.py\u001b[0m in \u001b[0;36m_python_apply_general\u001b[0;34m(self, f)\u001b[0m\n\u001b[1;32m    718\u001b[0m     \u001b[0;32mdef\u001b[0m \u001b[0m_python_apply_general\u001b[0m\u001b[0;34m(\u001b[0m\u001b[0mself\u001b[0m\u001b[0;34m,\u001b[0m \u001b[0mf\u001b[0m\u001b[0;34m)\u001b[0m\u001b[0;34m:\u001b[0m\u001b[0;34m\u001b[0m\u001b[0m\n\u001b[1;32m    719\u001b[0m         keys, values, mutated = self.grouper.apply(f, self._selected_obj,\n\u001b[0;32m--> 720\u001b[0;31m                                                    self.axis)\n\u001b[0m\u001b[1;32m    721\u001b[0m \u001b[0;34m\u001b[0m\u001b[0m\n\u001b[1;32m    722\u001b[0m         return self._wrap_applied_output(\n",
      "\u001b[0;32m/Users/robinwilson/anaconda/lib/python3.6/site-packages/pandas/core/groupby.py\u001b[0m in \u001b[0;36mapply\u001b[0;34m(self, f, data, axis)\u001b[0m\n\u001b[1;32m   1727\u001b[0m             \u001b[0;31m# group might be modified\u001b[0m\u001b[0;34m\u001b[0m\u001b[0;34m\u001b[0m\u001b[0m\n\u001b[1;32m   1728\u001b[0m             \u001b[0mgroup_axes\u001b[0m \u001b[0;34m=\u001b[0m \u001b[0m_get_axes\u001b[0m\u001b[0;34m(\u001b[0m\u001b[0mgroup\u001b[0m\u001b[0;34m)\u001b[0m\u001b[0;34m\u001b[0m\u001b[0m\n\u001b[0;32m-> 1729\u001b[0;31m             \u001b[0mres\u001b[0m \u001b[0;34m=\u001b[0m \u001b[0mf\u001b[0m\u001b[0;34m(\u001b[0m\u001b[0mgroup\u001b[0m\u001b[0;34m)\u001b[0m\u001b[0;34m\u001b[0m\u001b[0m\n\u001b[0m\u001b[1;32m   1730\u001b[0m             \u001b[0;32mif\u001b[0m \u001b[0;32mnot\u001b[0m \u001b[0m_is_indexed_like\u001b[0m\u001b[0;34m(\u001b[0m\u001b[0mres\u001b[0m\u001b[0;34m,\u001b[0m \u001b[0mgroup_axes\u001b[0m\u001b[0;34m)\u001b[0m\u001b[0;34m:\u001b[0m\u001b[0;34m\u001b[0m\u001b[0m\n\u001b[1;32m   1731\u001b[0m                 \u001b[0mmutated\u001b[0m \u001b[0;34m=\u001b[0m \u001b[0;32mTrue\u001b[0m\u001b[0;34m\u001b[0m\u001b[0m\n",
      "\u001b[0;32m/Users/robinwilson/anaconda/lib/python3.6/site-packages/pandas/core/groupby.py\u001b[0m in \u001b[0;36mf\u001b[0;34m(self)\u001b[0m\n\u001b[1;32m    352\u001b[0m         \u001b[0;32mdef\u001b[0m \u001b[0mattr\u001b[0m\u001b[0;34m(\u001b[0m\u001b[0;34m*\u001b[0m\u001b[0margs\u001b[0m\u001b[0;34m,\u001b[0m \u001b[0;34m**\u001b[0m\u001b[0mkwargs\u001b[0m\u001b[0;34m)\u001b[0m\u001b[0;34m:\u001b[0m\u001b[0;34m\u001b[0m\u001b[0m\n\u001b[1;32m    353\u001b[0m             \u001b[0;32mdef\u001b[0m \u001b[0mf\u001b[0m\u001b[0;34m(\u001b[0m\u001b[0mself\u001b[0m\u001b[0;34m)\u001b[0m\u001b[0;34m:\u001b[0m\u001b[0;34m\u001b[0m\u001b[0m\n\u001b[0;32m--> 354\u001b[0;31m                 \u001b[0;32mreturn\u001b[0m \u001b[0mgetattr\u001b[0m\u001b[0;34m(\u001b[0m\u001b[0mself\u001b[0m\u001b[0;34m.\u001b[0m\u001b[0mplot\u001b[0m\u001b[0;34m,\u001b[0m \u001b[0mname\u001b[0m\u001b[0;34m)\u001b[0m\u001b[0;34m(\u001b[0m\u001b[0;34m*\u001b[0m\u001b[0margs\u001b[0m\u001b[0;34m,\u001b[0m \u001b[0;34m**\u001b[0m\u001b[0mkwargs\u001b[0m\u001b[0;34m)\u001b[0m\u001b[0;34m\u001b[0m\u001b[0m\n\u001b[0m\u001b[1;32m    355\u001b[0m             \u001b[0;32mreturn\u001b[0m \u001b[0mself\u001b[0m\u001b[0;34m.\u001b[0m\u001b[0m_groupby\u001b[0m\u001b[0;34m.\u001b[0m\u001b[0mapply\u001b[0m\u001b[0;34m(\u001b[0m\u001b[0mf\u001b[0m\u001b[0;34m)\u001b[0m\u001b[0;34m\u001b[0m\u001b[0m\n\u001b[1;32m    356\u001b[0m         \u001b[0;32mreturn\u001b[0m \u001b[0mattr\u001b[0m\u001b[0;34m\u001b[0m\u001b[0m\n",
      "\u001b[0;32m/Users/robinwilson/anaconda/lib/python3.6/site-packages/pandas/plotting/_core.py\u001b[0m in \u001b[0;36mbar\u001b[0;34m(self, x, y, **kwds)\u001b[0m\n\u001b[1;32m   2657\u001b[0m         \u001b[0maxes\u001b[0m \u001b[0;34m:\u001b[0m \u001b[0mmatplotlib\u001b[0m\u001b[0;34m.\u001b[0m\u001b[0mAxesSubplot\u001b[0m \u001b[0;32mor\u001b[0m \u001b[0mnp\u001b[0m\u001b[0;34m.\u001b[0m\u001b[0marray\u001b[0m \u001b[0mof\u001b[0m \u001b[0mthem\u001b[0m\u001b[0;34m\u001b[0m\u001b[0m\n\u001b[1;32m   2658\u001b[0m         \"\"\"\n\u001b[0;32m-> 2659\u001b[0;31m         \u001b[0;32mreturn\u001b[0m \u001b[0mself\u001b[0m\u001b[0;34m(\u001b[0m\u001b[0mkind\u001b[0m\u001b[0;34m=\u001b[0m\u001b[0;34m'bar'\u001b[0m\u001b[0;34m,\u001b[0m \u001b[0mx\u001b[0m\u001b[0;34m=\u001b[0m\u001b[0mx\u001b[0m\u001b[0;34m,\u001b[0m \u001b[0my\u001b[0m\u001b[0;34m=\u001b[0m\u001b[0my\u001b[0m\u001b[0;34m,\u001b[0m \u001b[0;34m**\u001b[0m\u001b[0mkwds\u001b[0m\u001b[0;34m)\u001b[0m\u001b[0;34m\u001b[0m\u001b[0m\n\u001b[0m\u001b[1;32m   2660\u001b[0m \u001b[0;34m\u001b[0m\u001b[0m\n\u001b[1;32m   2661\u001b[0m     \u001b[0;32mdef\u001b[0m \u001b[0mbarh\u001b[0m\u001b[0;34m(\u001b[0m\u001b[0mself\u001b[0m\u001b[0;34m,\u001b[0m \u001b[0mx\u001b[0m\u001b[0;34m=\u001b[0m\u001b[0;32mNone\u001b[0m\u001b[0;34m,\u001b[0m \u001b[0my\u001b[0m\u001b[0;34m=\u001b[0m\u001b[0;32mNone\u001b[0m\u001b[0;34m,\u001b[0m \u001b[0;34m**\u001b[0m\u001b[0mkwds\u001b[0m\u001b[0;34m)\u001b[0m\u001b[0;34m:\u001b[0m\u001b[0;34m\u001b[0m\u001b[0m\n",
      "\u001b[0;32m/Users/robinwilson/anaconda/lib/python3.6/site-packages/pandas/plotting/_core.py\u001b[0m in \u001b[0;36m__call__\u001b[0;34m(self, x, y, kind, ax, subplots, sharex, sharey, layout, figsize, use_index, title, grid, legend, style, logx, logy, loglog, xticks, yticks, xlim, ylim, rot, fontsize, colormap, table, yerr, xerr, secondary_y, sort_columns, **kwds)\u001b[0m\n\u001b[1;32m   2618\u001b[0m                           \u001b[0mfontsize\u001b[0m\u001b[0;34m=\u001b[0m\u001b[0mfontsize\u001b[0m\u001b[0;34m,\u001b[0m \u001b[0mcolormap\u001b[0m\u001b[0;34m=\u001b[0m\u001b[0mcolormap\u001b[0m\u001b[0;34m,\u001b[0m \u001b[0mtable\u001b[0m\u001b[0;34m=\u001b[0m\u001b[0mtable\u001b[0m\u001b[0;34m,\u001b[0m\u001b[0;34m\u001b[0m\u001b[0m\n\u001b[1;32m   2619\u001b[0m                           \u001b[0myerr\u001b[0m\u001b[0;34m=\u001b[0m\u001b[0myerr\u001b[0m\u001b[0;34m,\u001b[0m \u001b[0mxerr\u001b[0m\u001b[0;34m=\u001b[0m\u001b[0mxerr\u001b[0m\u001b[0;34m,\u001b[0m \u001b[0msecondary_y\u001b[0m\u001b[0;34m=\u001b[0m\u001b[0msecondary_y\u001b[0m\u001b[0;34m,\u001b[0m\u001b[0;34m\u001b[0m\u001b[0m\n\u001b[0;32m-> 2620\u001b[0;31m                           sort_columns=sort_columns, **kwds)\n\u001b[0m\u001b[1;32m   2621\u001b[0m     \u001b[0m__call__\u001b[0m\u001b[0;34m.\u001b[0m\u001b[0m__doc__\u001b[0m \u001b[0;34m=\u001b[0m \u001b[0mplot_frame\u001b[0m\u001b[0;34m.\u001b[0m\u001b[0m__doc__\u001b[0m\u001b[0;34m\u001b[0m\u001b[0m\n\u001b[1;32m   2622\u001b[0m \u001b[0;34m\u001b[0m\u001b[0m\n",
      "\u001b[0;32m/Users/robinwilson/anaconda/lib/python3.6/site-packages/pandas/plotting/_core.py\u001b[0m in \u001b[0;36mplot_frame\u001b[0;34m(data, x, y, kind, ax, subplots, sharex, sharey, layout, figsize, use_index, title, grid, legend, style, logx, logy, loglog, xticks, yticks, xlim, ylim, rot, fontsize, colormap, table, yerr, xerr, secondary_y, sort_columns, **kwds)\u001b[0m\n\u001b[1;32m   1855\u001b[0m                  \u001b[0myerr\u001b[0m\u001b[0;34m=\u001b[0m\u001b[0myerr\u001b[0m\u001b[0;34m,\u001b[0m \u001b[0mxerr\u001b[0m\u001b[0;34m=\u001b[0m\u001b[0mxerr\u001b[0m\u001b[0;34m,\u001b[0m\u001b[0;34m\u001b[0m\u001b[0m\n\u001b[1;32m   1856\u001b[0m                  \u001b[0msecondary_y\u001b[0m\u001b[0;34m=\u001b[0m\u001b[0msecondary_y\u001b[0m\u001b[0;34m,\u001b[0m \u001b[0msort_columns\u001b[0m\u001b[0;34m=\u001b[0m\u001b[0msort_columns\u001b[0m\u001b[0;34m,\u001b[0m\u001b[0;34m\u001b[0m\u001b[0m\n\u001b[0;32m-> 1857\u001b[0;31m                  **kwds)\n\u001b[0m\u001b[1;32m   1858\u001b[0m \u001b[0;34m\u001b[0m\u001b[0m\n\u001b[1;32m   1859\u001b[0m \u001b[0;34m\u001b[0m\u001b[0m\n",
      "\u001b[0;32m/Users/robinwilson/anaconda/lib/python3.6/site-packages/pandas/plotting/_core.py\u001b[0m in \u001b[0;36m_plot\u001b[0;34m(data, x, y, subplots, ax, kind, **kwds)\u001b[0m\n\u001b[1;32m   1680\u001b[0m         \u001b[0mplot_obj\u001b[0m \u001b[0;34m=\u001b[0m \u001b[0mklass\u001b[0m\u001b[0;34m(\u001b[0m\u001b[0mdata\u001b[0m\u001b[0;34m,\u001b[0m \u001b[0msubplots\u001b[0m\u001b[0;34m=\u001b[0m\u001b[0msubplots\u001b[0m\u001b[0;34m,\u001b[0m \u001b[0max\u001b[0m\u001b[0;34m=\u001b[0m\u001b[0max\u001b[0m\u001b[0;34m,\u001b[0m \u001b[0mkind\u001b[0m\u001b[0;34m=\u001b[0m\u001b[0mkind\u001b[0m\u001b[0;34m,\u001b[0m \u001b[0;34m**\u001b[0m\u001b[0mkwds\u001b[0m\u001b[0;34m)\u001b[0m\u001b[0;34m\u001b[0m\u001b[0m\n\u001b[1;32m   1681\u001b[0m \u001b[0;34m\u001b[0m\u001b[0m\n\u001b[0;32m-> 1682\u001b[0;31m     \u001b[0mplot_obj\u001b[0m\u001b[0;34m.\u001b[0m\u001b[0mgenerate\u001b[0m\u001b[0;34m(\u001b[0m\u001b[0;34m)\u001b[0m\u001b[0;34m\u001b[0m\u001b[0m\n\u001b[0m\u001b[1;32m   1683\u001b[0m     \u001b[0mplot_obj\u001b[0m\u001b[0;34m.\u001b[0m\u001b[0mdraw\u001b[0m\u001b[0;34m(\u001b[0m\u001b[0;34m)\u001b[0m\u001b[0;34m\u001b[0m\u001b[0m\n\u001b[1;32m   1684\u001b[0m     \u001b[0;32mreturn\u001b[0m \u001b[0mplot_obj\u001b[0m\u001b[0;34m.\u001b[0m\u001b[0mresult\u001b[0m\u001b[0;34m\u001b[0m\u001b[0m\n",
      "\u001b[0;32m/Users/robinwilson/anaconda/lib/python3.6/site-packages/pandas/plotting/_core.py\u001b[0m in \u001b[0;36mgenerate\u001b[0;34m(self)\u001b[0m\n\u001b[1;32m    234\u001b[0m     \u001b[0;32mdef\u001b[0m \u001b[0mgenerate\u001b[0m\u001b[0;34m(\u001b[0m\u001b[0mself\u001b[0m\u001b[0;34m)\u001b[0m\u001b[0;34m:\u001b[0m\u001b[0;34m\u001b[0m\u001b[0m\n\u001b[1;32m    235\u001b[0m         \u001b[0mself\u001b[0m\u001b[0;34m.\u001b[0m\u001b[0m_args_adjust\u001b[0m\u001b[0;34m(\u001b[0m\u001b[0;34m)\u001b[0m\u001b[0;34m\u001b[0m\u001b[0m\n\u001b[0;32m--> 236\u001b[0;31m         \u001b[0mself\u001b[0m\u001b[0;34m.\u001b[0m\u001b[0m_compute_plot_data\u001b[0m\u001b[0;34m(\u001b[0m\u001b[0;34m)\u001b[0m\u001b[0;34m\u001b[0m\u001b[0m\n\u001b[0m\u001b[1;32m    237\u001b[0m         \u001b[0mself\u001b[0m\u001b[0;34m.\u001b[0m\u001b[0m_setup_subplots\u001b[0m\u001b[0;34m(\u001b[0m\u001b[0;34m)\u001b[0m\u001b[0;34m\u001b[0m\u001b[0m\n\u001b[1;32m    238\u001b[0m         \u001b[0mself\u001b[0m\u001b[0;34m.\u001b[0m\u001b[0m_make_plot\u001b[0m\u001b[0;34m(\u001b[0m\u001b[0;34m)\u001b[0m\u001b[0;34m\u001b[0m\u001b[0m\n",
      "\u001b[0;32m/Users/robinwilson/anaconda/lib/python3.6/site-packages/pandas/plotting/_core.py\u001b[0m in \u001b[0;36m_compute_plot_data\u001b[0;34m(self)\u001b[0m\n\u001b[1;32m    343\u001b[0m         \u001b[0;32mif\u001b[0m \u001b[0mis_empty\u001b[0m\u001b[0;34m:\u001b[0m\u001b[0;34m\u001b[0m\u001b[0m\n\u001b[1;32m    344\u001b[0m             raise TypeError('Empty {0!r}: no numeric data to '\n\u001b[0;32m--> 345\u001b[0;31m                             'plot'.format(numeric_data.__class__.__name__))\n\u001b[0m\u001b[1;32m    346\u001b[0m \u001b[0;34m\u001b[0m\u001b[0m\n\u001b[1;32m    347\u001b[0m         \u001b[0mself\u001b[0m\u001b[0;34m.\u001b[0m\u001b[0mdata\u001b[0m \u001b[0;34m=\u001b[0m \u001b[0mnumeric_data\u001b[0m\u001b[0;34m\u001b[0m\u001b[0m\n",
      "\u001b[0;31mTypeError\u001b[0m: Empty 'DataFrame': no numeric data to plot"
     ]
    }
   ],
   "source": [
    "x.plot.bar(stacked = True)"
   ]
  },
  {
   "cell_type": "code",
   "execution_count": 23,
   "metadata": {
    "collapsed": true
   },
   "outputs": [],
   "source": [
    "bar = x.mean()"
   ]
  },
  {
   "cell_type": "code",
   "execution_count": 25,
   "metadata": {},
   "outputs": [
    {
     "data": {
      "text/plain": [
       "<matplotlib.axes._subplots.AxesSubplot at 0x10d499780>"
      ]
     },
     "execution_count": 25,
     "metadata": {},
     "output_type": "execute_result"
    },
    {
     "data": {
      "image/png": "[encoded data removed]",
      "text/plain": [
       "<matplotlib.figure.Figure at 0x1035824e0>"
      ]
     },
     "metadata": {},
     "output_type": "display_data"
    }
   ],
   "source": [
    "x.plot.bar(stacked = True)"
   ]
  },
  {
   "cell_type": "code",
   "execution_count": 166,
   "metadata": {
    "collapsed": true
   },
   "outputs": [],
   "source": [
    "income = pd.DataFrame({'a': celebrate['What is typically the main dish at your Thanksgiving dinner?'] == \"Tofurkey\", 'b': celebrate['What type of cranberry saucedo you typically have?'] == \"Homemade\", 'c': celebrate['How much total combined money did all members of your HOUSEHOLD earn last year?']})"
   ]
  },
  {
   "cell_type": "code",
   "execution_count": 172,
   "metadata": {
    "collapsed": true
   },
   "outputs": [],
   "source": [
    "bara = income.groupby('c')"
   ]
  },
  {
   "cell_type": "code",
   "execution_count": 174,
   "metadata": {},
   "outputs": [
    {
     "data": {
      "text/html": [
       "<div>\n",
       "<style>\n",
       "    .dataframe thead tr:only-child th {\n",
       "        text-align: right;\n",
       "    }\n",
       "\n",
       "    .dataframe thead th {\n",
       "        text-align: left;\n",
       "    }\n",
       "\n",
       "    .dataframe tbody tr th {\n",
       "        vertical-align: top;\n",
       "    }\n",
       "</style>\n",
       "<table border=\"1\" class=\"dataframe\">\n",
       "  <thead>\n",
       "    <tr style=\"text-align: right;\">\n",
       "      <th></th>\n",
       "      <th>a</th>\n",
       "      <th>b</th>\n",
       "    </tr>\n",
       "    <tr>\n",
       "      <th>c</th>\n",
       "      <th></th>\n",
       "      <th></th>\n",
       "    </tr>\n",
       "  </thead>\n",
       "  <tbody>\n",
       "    <tr>\n",
       "      <th>$0 to $9,999</th>\n",
       "      <td>0.019231</td>\n",
       "      <td>0.365385</td>\n",
       "    </tr>\n",
       "    <tr>\n",
       "      <th>$10,000 to $24,999</th>\n",
       "      <td>0.033333</td>\n",
       "      <td>0.216667</td>\n",
       "    </tr>\n",
       "    <tr>\n",
       "      <th>$100,000 to $124,999</th>\n",
       "      <td>0.027523</td>\n",
       "      <td>0.266055</td>\n",
       "    </tr>\n",
       "    <tr>\n",
       "      <th>$125,000 to $149,999</th>\n",
       "      <td>0.041667</td>\n",
       "      <td>0.375000</td>\n",
       "    </tr>\n",
       "    <tr>\n",
       "      <th>$150,000 to $174,999</th>\n",
       "      <td>0.000000</td>\n",
       "      <td>0.394737</td>\n",
       "    </tr>\n",
       "    <tr>\n",
       "      <th>$175,000 to $199,999</th>\n",
       "      <td>0.038462</td>\n",
       "      <td>0.346154</td>\n",
       "    </tr>\n",
       "    <tr>\n",
       "      <th>$200,000 and up</th>\n",
       "      <td>0.013158</td>\n",
       "      <td>0.421053</td>\n",
       "    </tr>\n",
       "    <tr>\n",
       "      <th>$25,000 to $49,999</th>\n",
       "      <td>0.024096</td>\n",
       "      <td>0.277108</td>\n",
       "    </tr>\n",
       "    <tr>\n",
       "      <th>$50,000 to $74,999</th>\n",
       "      <td>0.007874</td>\n",
       "      <td>0.204724</td>\n",
       "    </tr>\n",
       "    <tr>\n",
       "      <th>$75,000 to $99,999</th>\n",
       "      <td>0.015748</td>\n",
       "      <td>0.314961</td>\n",
       "    </tr>\n",
       "    <tr>\n",
       "      <th>Prefer not to answer</th>\n",
       "      <td>0.025424</td>\n",
       "      <td>0.338983</td>\n",
       "    </tr>\n",
       "  </tbody>\n",
       "</table>\n",
       "</div>"
      ],
      "text/plain": [
       "                             a         b\n",
       "c                                       \n",
       "$0 to $9,999          0.019231  0.365385\n",
       "$10,000 to $24,999    0.033333  0.216667\n",
       "$100,000 to $124,999  0.027523  0.266055\n",
       "$125,000 to $149,999  0.041667  0.375000\n",
       "$150,000 to $174,999  0.000000  0.394737\n",
       "$175,000 to $199,999  0.038462  0.346154\n",
       "$200,000 and up       0.013158  0.421053\n",
       "$25,000 to $49,999    0.024096  0.277108\n",
       "$50,000 to $74,999    0.007874  0.204724\n",
       "$75,000 to $99,999    0.015748  0.314961\n",
       "Prefer not to answer  0.025424  0.338983"
      ]
     },
     "execution_count": 174,
     "metadata": {},
     "output_type": "execute_result"
    }
   ],
   "source": [
    "bara.mean()"
   ]
  },
  {
   "cell_type": "code",
   "execution_count": 224,
   "metadata": {},
   "outputs": [
    {
     "data": {
      "text/plain": [
       "c\n",
       "$0 to $9,999            Axes(0.125,0.125;0.775x0.755)\n",
       "$10,000 to $24,999      Axes(0.125,0.125;0.775x0.755)\n",
       "$100,000 to $124,999    Axes(0.125,0.125;0.775x0.755)\n",
       "$125,000 to $149,999    Axes(0.125,0.125;0.775x0.755)\n",
       "$150,000 to $174,999    Axes(0.125,0.125;0.775x0.755)\n",
       "$175,000 to $199,999    Axes(0.125,0.125;0.775x0.755)\n",
       "$200,000 and up         Axes(0.125,0.125;0.775x0.755)\n",
       "$25,000 to $49,999      Axes(0.125,0.125;0.775x0.755)\n",
       "$50,000 to $74,999      Axes(0.125,0.125;0.775x0.755)\n",
       "$75,000 to $99,999      Axes(0.125,0.125;0.775x0.755)\n",
       "Prefer not to answer    Axes(0.125,0.125;0.775x0.755)\n",
       "dtype: object"
      ]
     },
     "execution_count": 224,
     "metadata": {},
     "output_type": "execute_result"
    },
    {
     "data": {
      "image/png": "[encoded data removed]",
      "text/plain": [
       "<matplotlib.figure.Figure at 0x1270e0400>"
      ]
     },
     "metadata": {},
     "output_type": "display_data"
    },
    {
     "data": {
      "image/png": "[encoded data removed]",
      "text/plain": [
       "<matplotlib.figure.Figure at 0x12856d208>"
      ]
     },
     "metadata": {},
     "output_type": "display_data"
    },
    {
     "data": {
      "image/png": "[encoded data removed]",
      "text/plain": [
       "<matplotlib.figure.Figure at 0x1285ea128>"
      ]
     },
     "metadata": {},
     "output_type": "display_data"
    },
    {
     "data": {
      "image/png": "[encoded data removed]",
      "text/plain": [
       "<matplotlib.figure.Figure at 0x1286d8710>"
      ]
     },
     "metadata": {},
     "output_type": "display_data"
    },
    {
     "data": {
      "image/png": "[encoded data removed]",
      "text/plain": [
       "<matplotlib.figure.Figure at 0x1288206d8>"
      ]
     },
     "metadata": {},
     "output_type": "display_data"
    },
    {
     "data": {
      "image/png": "[encoded data removed]",
      "text/plain": [
       "<matplotlib.figure.Figure at 0x12884cd30>"
      ]
     },
     "metadata": {},
     "output_type": "display_data"
    },
    {
     "data": {
      "image/png": "[encoded data removed]",
      "text/plain": [
       "<matplotlib.figure.Figure at 0x128987898>"
      ]
     },
     "metadata": {},
     "output_type": "display_data"
    },
    {
     "data": {
      "image/png": "[encoded data removed]",
      "text/plain": [
       "<matplotlib.figure.Figure at 0x128a7f908>"
      ]
     },
     "metadata": {},
     "output_type": "display_data"
    },
    {
     "data": {
      "image/png": "[encoded data removed]",
      "text/plain": [
       "<matplotlib.figure.Figure at 0x128b77048>"
      ]
     },
     "metadata": {},
     "output_type": "display_data"
    },
    {
     "data": {
      "image/png": "[encoded data removed]",
      "text/plain": [
       "<matplotlib.figure.Figure at 0x128c60cc0>"
      ]
     },
     "metadata": {},
     "output_type": "display_data"
    },
    {
     "data": {
      "image/png": "[encoded data removed]",
      "text/plain": [
       "<matplotlib.figure.Figure at 0x128d2c780>"
      ]
     },
     "metadata": {},
     "output_type": "display_data"
    },
    {
     "data": {
      "image/png": "[encoded data removed]",
      "text/plain": [
       "<matplotlib.figure.Figure at 0x128e38908>"
      ]
     },
     "metadata": {},
     "output_type": "display_data"
    }
   ],
   "source": [
    "bara.plot.hist()"
   ]
  },
  {
   "cell_type": "code",
   "execution_count": null,
   "metadata": {
    "collapsed": true
   },
   "outputs": [],
   "source": []
  }
 ],
 "metadata": {
  "anaconda-cloud": {},
  "kernelspec": {
   "display_name": "Python 3",
   "language": "python",
   "name": "python3"
  },
  "language_info": {
   "codemirror_mode": {
    "name": "ipython",
    "version": 3
   },
   "file_extension": ".py",
   "mimetype": "text/x-python",
   "name": "python",
   "nbconvert_exporter": "python",
   "pygments_lexer": "ipython3",
   "version": "3.6.1"
  }
 },
 "nbformat": 4,
 "nbformat_minor": 1
}
